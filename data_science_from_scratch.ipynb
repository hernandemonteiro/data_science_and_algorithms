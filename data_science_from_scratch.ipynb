{
 "cells": [
  {
   "cell_type": "markdown",
   "id": "02a3f041",
   "metadata": {},
   "source": [
    "# Data Science do zero\n",
    "\n",
    "Lendo por mais uma vez e praticando o livro de Joel Grus, que aborda os estudos do Data Science partindo do zero, sem bibliotecas, apenas usando a linguagem preferida dos Cientistas de Dados (python - pode conter ironia)"
   ]
  },
  {
   "cell_type": "markdown",
   "id": "933f830f",
   "metadata": {},
   "source": [
    "## Primeiro Capitulo"
   ]
  },
  {
   "cell_type": "code",
   "execution_count": 44,
   "id": "914c84e0",
   "metadata": {},
   "outputs": [
    {
     "data": {
      "text/plain": [
       "([{'id': 0, 'name': 'Hero'},\n",
       "  {'id': 1, 'name': 'Dunn'},\n",
       "  {'id': 2, 'name': 'Sue'},\n",
       "  {'id': 3, 'name': 'Chi'},\n",
       "  {'id': 4, 'name': 'Thor'},\n",
       "  {'id': 5, 'name': 'Clive'},\n",
       "  {'id': 6, 'name': 'Hicks'},\n",
       "  {'id': 7, 'name': 'Devin'},\n",
       "  {'id': 8, 'name': 'Kate'},\n",
       "  {'id': 9, 'name': 'Klein'}],\n",
       " [(0, 1),\n",
       "  (0, 2),\n",
       "  (1, 2),\n",
       "  (1, 3),\n",
       "  (2, 3),\n",
       "  (3, 4),\n",
       "  (4, 5),\n",
       "  (5, 6),\n",
       "  (5, 7),\n",
       "  (6, 8),\n",
       "  (7, 8),\n",
       "  (8, 9)])"
      ]
     },
     "execution_count": 44,
     "metadata": {},
     "output_type": "execute_result"
    }
   ],
   "source": [
    "users = [\n",
    "    {\"id\": 0, \"name\": \"Hero\"},\n",
    "    {\"id\": 1, \"name\": \"Dunn\"},\n",
    "    {\"id\": 2, \"name\": \"Sue\"},\n",
    "    {\"id\": 3, \"name\": \"Chi\"},\n",
    "    {\"id\": 4, \"name\": \"Thor\"},\n",
    "    {\"id\": 5, \"name\": \"Clive\"},\n",
    "    {\"id\": 6, \"name\": \"Hicks\"},\n",
    "    {\"id\": 7, \"name\": \"Devin\"},\n",
    "    {\"id\": 8, \"name\": \"Kate\"},\n",
    "    {\"id\": 9, \"name\": \"Klein\"}\n",
    "]\n",
    "friendship_pairs = [(0, 1), (0, 2), (1, 2), (1, 3), (2, 3),\n",
    "                    (3, 4), (4, 5), (5, 6), (5, 7), (6, 8), (7, 8), (8, 9)]\n",
    "users, friendship_pairs"
   ]
  },
  {
   "cell_type": "code",
   "execution_count": 45,
   "id": "beb759cc",
   "metadata": {},
   "outputs": [
    {
     "data": {
      "text/plain": [
       "{0: [1, 2],\n",
       " 1: [0, 2, 3],\n",
       " 2: [0, 1, 3],\n",
       " 3: [1, 2, 4],\n",
       " 4: [3, 5],\n",
       " 5: [4, 6, 7],\n",
       " 6: [5, 8],\n",
       " 7: [5, 8],\n",
       " 8: [6, 7, 9],\n",
       " 9: [8]}"
      ]
     },
     "execution_count": 45,
     "metadata": {},
     "output_type": "execute_result"
    }
   ],
   "source": [
    "friendships = {user[\"id\"]: [] for user in users}\n",
    "\n",
    "for i, j in friendship_pairs:\n",
    "    friendships[i].append(j)\n",
    "    friendships[j].append(i)\n",
    "\n",
    "friendships"
   ]
  },
  {
   "cell_type": "code",
   "execution_count": 46,
   "id": "c6041d7f",
   "metadata": {},
   "outputs": [
    {
     "data": {
      "text/plain": [
       "2.4"
      ]
     },
     "execution_count": 46,
     "metadata": {},
     "output_type": "execute_result"
    }
   ],
   "source": [
    "sum = 0\n",
    "\n",
    "for i in friendships.keys():\n",
    "    arrayLength = len(friendships[i])\n",
    "    sum += arrayLength\n",
    "\n",
    "averageFriendship = sum / len(users)\n",
    "averageFriendship"
   ]
  },
  {
   "cell_type": "code",
   "execution_count": 47,
   "id": "30c890bf",
   "metadata": {},
   "outputs": [
    {
     "data": {
      "text/plain": [
       "[(1, 3),\n",
       " (2, 3),\n",
       " (3, 3),\n",
       " (5, 3),\n",
       " (8, 3),\n",
       " (0, 2),\n",
       " (4, 2),\n",
       " (6, 2),\n",
       " (7, 2),\n",
       " (9, 1)]"
      ]
     },
     "execution_count": 47,
     "metadata": {},
     "output_type": "execute_result"
    }
   ],
   "source": [
    "number_of_friends_per_user = [\n",
    "    (user[\"id\"], len(friendships[user[\"id\"]])) for user in users\n",
    "]\n",
    "\n",
    "number_of_friends_per_user.sort(key=lambda x: x[1], reverse=True)\n",
    "number_of_friends_per_user"
   ]
  },
  {
   "cell_type": "code",
   "execution_count": null,
   "id": "4d253217",
   "metadata": {},
   "outputs": [
    {
     "data": {
      "text/plain": [
       "Counter({0: 2, 5: 1})"
      ]
     },
     "execution_count": 65,
     "metadata": {},
     "output_type": "execute_result"
    }
   ],
   "source": [
    "from collections import Counter\n",
    "\n",
    "\n",
    "def friends_of_friends(user):\n",
    "    \"\"\"Get the friends of a user's\n",
    "      friends that is not my friend.\"\"\"\n",
    "    return Counter([result\n",
    "                    for friend_id in friendships[user[\"id\"]]\n",
    "                    for result in friendships[friend_id]\n",
    "                    if result != user[\"id\"]\n",
    "                    and result not in friendships[user[\"id\"]]\n",
    "                    ])\n",
    "\n",
    "\n",
    "friends_of_friends(users[3])"
   ]
  },
  {
   "cell_type": "code",
   "execution_count": 66,
   "id": "d6fdc2e5",
   "metadata": {},
   "outputs": [
    {
     "data": {
      "text/plain": [
       "[(0, 'Hadoop'),\n",
       " (0, 'Big Data'),\n",
       " (0, 'HBase'),\n",
       " (0, 'Java'),\n",
       " (0, 'Spark'),\n",
       " (0, 'Storm'),\n",
       " (0, 'Cassandra'),\n",
       " (1, 'NoSQL'),\n",
       " (1, 'MongoDB'),\n",
       " (1, 'Cassandra'),\n",
       " (1, 'HBase'),\n",
       " (1, 'Postgres'),\n",
       " (2, 'Python'),\n",
       " (2, 'scikit-learn'),\n",
       " (2, 'scipy'),\n",
       " (2, 'numpy'),\n",
       " (2, 'statsmodels'),\n",
       " (2, 'pandas'),\n",
       " (3, 'R'),\n",
       " (3, 'Python'),\n",
       " (3, 'statistics'),\n",
       " (3, 'regression'),\n",
       " (3, 'probability'),\n",
       " (4, 'machine learning'),\n",
       " (4, 'regression'),\n",
       " (4, 'decision trees'),\n",
       " (4, 'libsvm'),\n",
       " (5, 'Python'),\n",
       " (5, 'R'),\n",
       " (5, 'Java'),\n",
       " (5, 'C++'),\n",
       " (5, 'Haskell'),\n",
       " (5, 'programming languages'),\n",
       " (6, 'statistics'),\n",
       " (6, 'probability'),\n",
       " (6, 'mathematics'),\n",
       " (6, 'theory'),\n",
       " (7, 'machine learning'),\n",
       " (7, 'scikit-learn'),\n",
       " (7, 'Mahout'),\n",
       " (7, 'neural networks'),\n",
       " (8, 'neural networks'),\n",
       " (8, 'deep learning'),\n",
       " (8, 'Big Data'),\n",
       " (8, 'artificial intelligence'),\n",
       " (8, 'Hadoop'),\n",
       " (9, 'Java'),\n",
       " (9, 'MapReduce'),\n",
       " (9, 'Big Data')]"
      ]
     },
     "execution_count": 66,
     "metadata": {},
     "output_type": "execute_result"
    }
   ],
   "source": [
    "interests = [\n",
    "    (0, \"Hadoop\"), (0, \"Big Data\"), (0, \"HBase\"), (0, \"Java\"),\n",
    "    (0, \"Spark\"), (0, \"Storm\"), (0, \"Cassandra\"),\n",
    "    (1, \"NoSQL\"), (1, \"MongoDB\"), (1, \"Cassandra\"), (1, \"HBase\"),\n",
    "    (1, \"Postgres\"), (2, \"Python\"), (2, \"scikit-learn\"), (2, \"scipy\"),\n",
    "    (2, \"numpy\"), (2, \"statsmodels\"), (2, \"pandas\"),\n",
    "    (3, \"R\"), (3, \"Python\"), (3, \"statistics\"), (3, \"regression\"),\n",
    "    (3, \"probability\"), (4, \"machine learning\"), (4, \"regression\"),\n",
    "    (4, \"decision trees\"), (4, \"libsvm\"), (5, \"Python\"), (5, \"R\"),\n",
    "    (5, \"Java\"), (5, \"C++\"), (5, \"Haskell\"), (5, \"programming languages\"),\n",
    "    (6, \"statistics\"), (6, \"probability\"), (6, \"mathematics\"),\n",
    "    (6, \"theory\"), (7, \"machine learning\"), (7, \"scikit-learn\"),\n",
    "    (7, \"Mahout\"), (7, \"neural networks\"), (8, \"neural networks\"),\n",
    "    (8, \"deep learning\"), (8, \"Big Data\"), (8, \"artificial intelligence\"),\n",
    "    (8, \"Hadoop\"), (9, \"Java\"), (9, \"MapReduce\"), (9, \"Big Data\")\n",
    "]\n",
    "interests"
   ]
  },
  {
   "cell_type": "code",
   "execution_count": 67,
   "id": "1a81ca6c",
   "metadata": {},
   "outputs": [
    {
     "data": {
      "text/plain": [
       "{0: ['Hadoop', 'Big Data', 'HBase', 'Java', 'Spark', 'Storm', 'Cassandra'],\n",
       " 1: ['NoSQL', 'MongoDB', 'Cassandra', 'HBase', 'Postgres'],\n",
       " 2: ['Python', 'scikit-learn', 'scipy', 'numpy', 'statsmodels', 'pandas'],\n",
       " 3: ['R', 'Python', 'statistics', 'regression', 'probability'],\n",
       " 4: ['machine learning', 'regression', 'decision trees', 'libsvm'],\n",
       " 5: ['Python', 'R', 'Java', 'C++', 'Haskell', 'programming languages'],\n",
       " 6: ['statistics', 'probability', 'mathematics', 'theory'],\n",
       " 7: ['machine learning', 'scikit-learn', 'Mahout', 'neural networks'],\n",
       " 8: ['neural networks',\n",
       "  'deep learning',\n",
       "  'Big Data',\n",
       "  'artificial intelligence',\n",
       "  'Hadoop'],\n",
       " 9: ['Java', 'MapReduce', 'Big Data']}"
      ]
     },
     "execution_count": 67,
     "metadata": {},
     "output_type": "execute_result"
    }
   ],
   "source": [
    "interests_by_user = {user[\"id\"]: [] for user in users}\n",
    "for user_id, interest in interests:\n",
    "    interests_by_user[user_id].append(interest)\n",
    "interests_by_user"
   ]
  },
  {
   "cell_type": "code",
   "execution_count": 77,
   "id": "0d6a963f",
   "metadata": {},
   "outputs": [
    {
     "name": "stdout",
     "output_type": "stream",
     "text": [
      "User: Chi\n"
     ]
    },
    {
     "data": {
      "text/plain": [
       "[(5, 'Python'), (5, 'R'), (6, 'statistics'), (6, 'probability')]"
      ]
     },
     "execution_count": 77,
     "metadata": {},
     "output_type": "execute_result"
    }
   ],
   "source": [
    "def possible_interest_friends(user):\n",
    "    \"\"\"Get the possible friends with the same interests.\"\"\"\n",
    "    print(f\"User: {user['name']}\")\n",
    "    return [\n",
    "        (user_id, interest)\n",
    "        for user_id, interest in interests\n",
    "        if user_id != user[\"id\"] and\n",
    "        user_id not in friendships[user[\"id\"]]\n",
    "        and interest in interests_by_user[user[\"id\"]\n",
    "        \n",
    "        ]\n",
    "    ] \n",
    "\n",
    "possible_interest_friends(users[3])"
   ]
  }
 ],
 "metadata": {
  "kernelspec": {
   "display_name": "base",
   "language": "python",
   "name": "python3"
  },
  "language_info": {
   "codemirror_mode": {
    "name": "ipython",
    "version": 3
   },
   "file_extension": ".py",
   "mimetype": "text/x-python",
   "name": "python",
   "nbconvert_exporter": "python",
   "pygments_lexer": "ipython3",
   "version": "3.12.7"
  }
 },
 "nbformat": 4,
 "nbformat_minor": 5
}
